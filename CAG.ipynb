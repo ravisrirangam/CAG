{
 "cells": [
  {
   "cell_type": "code",
   "execution_count": 1,
   "id": "ca40ec9e-136b-4164-aaea-5c8ef6bbbe9d",
   "metadata": {},
   "outputs": [],
   "source": [
    "import torch\n",
    "from transformers import AutoTokenizer, AutoModelForCausalLM\n",
    "from transformers.cache_utils import DynamicCache\n",
    "import os"
   ]
  },
  {
   "cell_type": "code",
   "execution_count": 2,
   "id": "ec72ca5d-bfc7-4646-a1f3-e56a0af2537f",
   "metadata": {},
   "outputs": [],
   "source": [
    "# Minimal generate function for token-by-token generation\n",
    "def generate(model, input_ids: torch.Tensor, past_key_values, max_new_tokens: int = 50) -> torch.Tensor:\n",
    "    device = model.model.embed_tokens.weight.device\n",
    "    origin_len = input_ids.shape[-1]\n",
    "    input_ids = input_ids.to(device)\n",
    "    output_ids = input_ids.clone()\n",
    "    next_token = input_ids\n",
    "\n",
    "    with torch.no_grad():\n",
    "        for _ in range(max_new_tokens):\n",
    "            out = model(\n",
    "                input_ids=next_token,\n",
    "                past_key_values=past_key_values,\n",
    "                use_cache=True\n",
    "            )\n",
    "            logits = out.logits[:, -1, :]\n",
    "            token = torch.argmax(logits, dim=-1, keepdim=True)\n",
    "            output_ids = torch.cat([output_ids, token], dim=-1)\n",
    "            past_key_values = out.past_key_values\n",
    "            next_token = token.to(device)\n",
    "\n",
    "            if model.config.eos_token_id is not None and token.item() == model.config.eos_token_id:\n",
    "                break\n",
    "\n",
    "    # Return just the newly generated part\n",
    "    return output_ids[:, origin_len:]"
   ]
  },
  {
   "cell_type": "code",
   "execution_count": 3,
   "id": "df8835ad-cd8f-4bf5-aa95-2df46838b823",
   "metadata": {},
   "outputs": [],
   "source": [
    "torch.serialization.add_safe_globals([DynamicCache])\n",
    "torch.serialization.add_safe_globals([set])"
   ]
  },
  {
   "cell_type": "code",
   "execution_count": 4,
   "id": "b3a8237a-b019-4e37-906b-0f1118556c62",
   "metadata": {},
   "outputs": [],
   "source": [
    "def get_kv_cache(model, tokenizer, prompt: str) -> DynamicCache:\n",
    "    # Encode prompt\n",
    "    device = model.model.embed_tokens.weight.device\n",
    "    print(device)\n",
    "    input_ids = tokenizer(prompt, return_tensors=\"pt\").input_ids.to(device)\n",
    "    cache = DynamicCache()\n",
    "\n",
    "    with torch.no_grad():\n",
    "        _ = model(\n",
    "            input_ids=input_ids,\n",
    "            past_key_values=cache,\n",
    "            use_cache=True\n",
    "        )\n",
    "    return cache"
   ]
  },
  {
   "cell_type": "code",
   "execution_count": 5,
   "id": "2f54b92c-63b0-46de-b857-3322d5a872d7",
   "metadata": {},
   "outputs": [],
   "source": [
    "def clean_up(cache: DynamicCache, origin_len: int):\n",
    "    # Remove any tokens appended to the original knowledge\n",
    "    for i in range(len(cache.key_cache)):\n",
    "        cache.key_cache[i] = cache.key_cache[i][:, :, :origin_len, :]\n",
    "        cache.value_cache[i] = cache.value_cache[i][:, :, :origin_len, :]"
   ]
  },
  {
   "cell_type": "code",
   "execution_count": 6,
   "id": "752186b5-80e9-4edc-826f-4d851d4a9158",
   "metadata": {},
   "outputs": [
    {
     "name": "stdout",
     "output_type": "stream",
     "text": [
      "Environment and imports are set.\n"
     ]
    }
   ],
   "source": [
    "def get_env():\n",
    "    env_dict = {}\n",
    "    env_file = \".env\" if os.path.exists(\".env\") else \"env\"\n",
    "    if os.path.exists(env_file):\n",
    "        with open(env_file, mode=\"r\") as f:\n",
    "            for line in f:\n",
    "                key, value = line.strip().split(\"=\")\n",
    "                env_dict[key] = value.strip('\"')\n",
    "    else:\n",
    "        print(\"No .env or env file found; HF_TOKEN may not be set.\")\n",
    "    return env_dict\n",
    "\n",
    "env = get_env()\n",
    "HF_TOKEN = env.get(\"HF_TOKEN\", None)\n",
    "\n",
    "# Global placeholders (if needed)\n",
    "model_name = None\n",
    "model = None\n",
    "tokenizer = None\n",
    "rand_seed = None\n",
    "\n",
    "print(\"Environment and imports are set.\")"
   ]
  },
  {
   "cell_type": "code",
   "execution_count": 7,
   "id": "8977743a-2053-4cf9-88c4-f8b9db2b0b77",
   "metadata": {},
   "outputs": [
    {
     "data": {
      "application/vnd.jupyter.widget-view+json": {
       "model_id": "7f68df991fd14a7496133b86fd30a62c",
       "version_major": 2,
       "version_minor": 0
      },
      "text/plain": [
       "tokenizer_config.json:   0%|          | 0.00/8.07k [00:00<?, ?B/s]"
      ]
     },
     "metadata": {},
     "output_type": "display_data"
    },
    {
     "data": {
      "application/vnd.jupyter.widget-view+json": {
       "model_id": "64af06c1e5ea4fc08375993a239d0c54",
       "version_major": 2,
       "version_minor": 0
      },
      "text/plain": [
       "vocab.json:   0%|          | 0.00/777k [00:00<?, ?B/s]"
      ]
     },
     "metadata": {},
     "output_type": "display_data"
    },
    {
     "data": {
      "application/vnd.jupyter.widget-view+json": {
       "model_id": "074ec485edce4feea30ca6684ea6ebd5",
       "version_major": 2,
       "version_minor": 0
      },
      "text/plain": [
       "merges.txt:   0%|          | 0.00/442k [00:00<?, ?B/s]"
      ]
     },
     "metadata": {},
     "output_type": "display_data"
    },
    {
     "data": {
      "application/vnd.jupyter.widget-view+json": {
       "model_id": "191e22bde8b549aebd72c75bed69fe6a",
       "version_major": 2,
       "version_minor": 0
      },
      "text/plain": [
       "tokenizer.json:   0%|          | 0.00/3.48M [00:00<?, ?B/s]"
      ]
     },
     "metadata": {},
     "output_type": "display_data"
    },
    {
     "data": {
      "application/vnd.jupyter.widget-view+json": {
       "model_id": "f1bc15fd2d124aa1b7524400f0e7f6eb",
       "version_major": 2,
       "version_minor": 0
      },
      "text/plain": [
       "added_tokens.json:   0%|          | 0.00/87.0 [00:00<?, ?B/s]"
      ]
     },
     "metadata": {},
     "output_type": "display_data"
    },
    {
     "data": {
      "application/vnd.jupyter.widget-view+json": {
       "model_id": "b03ecd1d93b645088eee6b8cb77d092e",
       "version_major": 2,
       "version_minor": 0
      },
      "text/plain": [
       "special_tokens_map.json:   0%|          | 0.00/701 [00:00<?, ?B/s]"
      ]
     },
     "metadata": {},
     "output_type": "display_data"
    },
    {
     "data": {
      "application/vnd.jupyter.widget-view+json": {
       "model_id": "1a27641d11d04da1a50f1f42c93d6613",
       "version_major": 2,
       "version_minor": 0
      },
      "text/plain": [
       "config.json:   0%|          | 0.00/889 [00:00<?, ?B/s]"
      ]
     },
     "metadata": {},
     "output_type": "display_data"
    },
    {
     "data": {
      "application/vnd.jupyter.widget-view+json": {
       "model_id": "36e64883b7a8430198416dd5599a18f8",
       "version_major": 2,
       "version_minor": 0
      },
      "text/plain": [
       "model.safetensors:   0%|          | 0.00/2.67G [00:00<?, ?B/s]"
      ]
     },
     "metadata": {},
     "output_type": "display_data"
    },
    {
     "data": {
      "application/vnd.jupyter.widget-view+json": {
       "model_id": "cef632474a504eb18703b61bc210ff61",
       "version_major": 2,
       "version_minor": 0
      },
      "text/plain": [
       "generation_config.json:   0%|          | 0.00/132 [00:00<?, ?B/s]"
      ]
     },
     "metadata": {},
     "output_type": "display_data"
    },
    {
     "name": "stdout",
     "output_type": "stream",
     "text": [
      "Loaded ibm-granite/granite-3.1-1b-a400m-instruct.\n"
     ]
    }
   ],
   "source": [
    "#model_name = \"mistralai/Mistral-7B-Instruct-v0.1\"\n",
    "#model_name = \"meta-llama/Llama-3.1-8B-Instruct\"\n",
    "#model_name = \"microsoft/Phi-3-mini-4k-instruct\"\n",
    "#model_name = \"ibm-granite/granite-3.1-8b-instruct\"\n",
    "#model_name = \"meta-llama/Llama-3.2-1B\"\n",
    "model_name = \"ibm-granite/granite-3.1-1b-a400m-instruct\"\n",
    "max_memory = {\"cpu\": \"15GiB\"}\n",
    "tokenizer = AutoTokenizer.from_pretrained(model_name, token=HF_TOKEN, trust_remote_code=True)\n",
    "model = AutoModelForCausalLM.from_pretrained(\n",
    "    model_name,\n",
    "    #torch_dtype=torch.float16 if torch.cuda.is_available() else torch.float32,\n",
    "    torch_dtype=torch.float32,\n",
    "    device_map=\"balanced\",\n",
    "    trust_remote_code=True,\n",
    "    token=HF_TOKEN,\n",
    "    max_memory=max_memory\n",
    ")\n",
    "#device = \"cuda\" if torch.cuda.is_available() else \"cpu\"\n",
    "#device = \"cpu\"\n",
    "\n",
    "#model.to(device)\n",
    "print(f\"Loaded {model_name}.\")"
   ]
  },
  {
   "cell_type": "code",
   "execution_count": 30,
   "id": "1effdaf6-117c-4ef9-aeaa-793ce4125f76",
   "metadata": {},
   "outputs": [
    {
     "name": "stdout",
     "output_type": "stream",
     "text": [
      "cpu\n",
      "KV cache built.\n"
     ]
    }
   ],
   "source": [
    "if not os.path.exists(\"document.txt\"):\n",
    "    raise FileNotFoundError(\"Please create a `document.txt` with info about Ravi.\")\n",
    "\n",
    "with open(\"document.txt\", \"r\", encoding=\"utf-8\") as f:\n",
    "    doc_text = f.read()\n",
    "\n",
    "#system_prompt = f\"\"\"\n",
    "#<|system|>\n",
    "#You are an assistant who provides concise factual answers.\n",
    "#<|user|>\n",
    "#Context:\n",
    "#{doc_text}\n",
    "#Question:\n",
    "#\"\"\".strip()\n",
    "\n",
    "#system_prompt = f\"\"\"You are an expert in providing factual answers from the context.\n",
    "#Context:\n",
    "#{doc_text}\n",
    "#Question:\n",
    "#\"\"\".strip()\n",
    "\n",
    "system_prompt = f\"\"\"<|start_of_role|>system<|end_of_role|>You are an expert in extracting content from the context for the given question.<|end_of_text|>\n",
    "<|start_of_role|>user<|end_of_role|>Context:{doc_text}<|end_of_text|>\n",
    "Question:\n",
    "<|start_of_role|>assistant<|end_of_role|>Answer:\n",
    "\"\"\".strip()\n",
    "\n",
    "# Build the cache\n",
    "cache = get_kv_cache(model, tokenizer, system_prompt)\n",
    "origin_len = cache.key_cache[0].shape[-2]\n",
    "print(\"KV cache built.\")"
   ]
  },
  {
   "cell_type": "code",
   "execution_count": 31,
   "id": "ed834733-3e0a-49aa-ae69-95e20d6742c3",
   "metadata": {},
   "outputs": [
    {
     "name": "stdout",
     "output_type": "stream",
     "text": [
      "Q1: Who is Ravi Kumar Srirangam?\n",
      "A1: \n",
      "Ravi Kumar Srirangam is an experienced technology and product leader with a strong background in engineering and product development. He has extensive experience in developing scalable platforms, middleware, and distributed applications, and has successfully migrated applications to the\n"
     ]
    }
   ],
   "source": [
    "# 1st query\n",
    "device=\"cpu\"\n",
    "question1 = \"Who is Ravi Kumar Srirangam?\"\n",
    "clean_up(cache, origin_len)\n",
    "input_ids_q1 = tokenizer(question1 + \"\\n\", return_tensors=\"pt\").input_ids.to(device)\n",
    "gen_ids_q1 = generate(model, input_ids_q1, cache)\n",
    "answer1 = tokenizer.decode(gen_ids_q1[0], skip_special_tokens=True)\n",
    "\n",
    "print(\"Q1:\", question1)\n",
    "print(\"A1:\", answer1)"
   ]
  },
  {
   "cell_type": "code",
   "execution_count": 21,
   "id": "24615ac2-0f50-4383-b8ee-e249ca0cdd70",
   "metadata": {},
   "outputs": [
    {
     "name": "stdout",
     "output_type": "stream",
     "text": [
      "Q1: What is his education?\n",
      "A1: Answer:\n",
      "Ravi Kumar Srirangam has a Bachelor of Technology (BTech) in Mechanical Engineering from KL University and a Master of Business Administration (MBA) from Amrita School of Business.\n"
     ]
    }
   ],
   "source": [
    "# 2nd query\n",
    "question2 = \"What is his education?\"\n",
    "clean_up(cache, origin_len)\n",
    "input_ids_q2 = tokenizer(question2 + \"\\n\", return_tensors=\"pt\").input_ids.to(device)\n",
    "gen_ids_q2 = generate(model, input_ids_q2, cache)\n",
    "answer2 = tokenizer.decode(gen_ids_q2[0], skip_special_tokens=True)\n",
    "print(\"Q1:\", question2)\n",
    "print(\"A1:\", answer2)"
   ]
  },
  {
   "cell_type": "code",
   "execution_count": null,
   "id": "d4753e27-af38-4f41-9c48-afdde0ac5b57",
   "metadata": {},
   "outputs": [],
   "source": []
  }
 ],
 "metadata": {
  "kernelspec": {
   "display_name": "Python 3 (ipykernel)",
   "language": "python",
   "name": "python3"
  },
  "language_info": {
   "codemirror_mode": {
    "name": "ipython",
    "version": 3
   },
   "file_extension": ".py",
   "mimetype": "text/x-python",
   "name": "python",
   "nbconvert_exporter": "python",
   "pygments_lexer": "ipython3",
   "version": "3.11.10"
  }
 },
 "nbformat": 4,
 "nbformat_minor": 5
}
